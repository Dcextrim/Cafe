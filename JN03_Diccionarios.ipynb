{
  "cells": [
    {
      "cell_type": "markdown",
      "metadata": {
        "id": "view-in-github",
        "colab_type": "text"
      },
      "source": [
        "<a href=\"https://colab.research.google.com/github/Dcextrim/Cafe/blob/main/JN03_Diccionarios.ipynb\" target=\"_parent\"><img src=\"https://colab.research.google.com/assets/colab-badge.svg\" alt=\"Open In Colab\"/></a>"
      ]
    },
    {
      "cell_type": "markdown",
      "metadata": {
        "id": "AYRn7v1oH1a_"
      },
      "source": [
        "# Diccionarios"
      ]
    },
    {
      "cell_type": "markdown",
      "metadata": {
        "id": "BsEk46w1H1a_"
      },
      "source": [
        "Bienvenido a la hoja de trabajo de diccionarios. En esta hoja de trabajo usted podrá editar el código de las diferentes celdas y ejecutarlo al presionar **Ctrl + Enter**.\n",
        "\n",
        "Modifique el siguiente código para hacer la prueba."
      ]
    },
    {
      "cell_type": "code",
      "execution_count": 1,
      "metadata": {
        "id": "NI2p53P0H1bA",
        "outputId": "8e7e0d62-dc16-49fe-fda2-0077b7cc3853",
        "colab": {
          "base_uri": "https://localhost:8080/"
        }
      },
      "outputs": [
        {
          "output_type": "stream",
          "name": "stdout",
          "text": [
            "Nombre:    Carnet:  \n"
          ]
        }
      ],
      "source": [
        "nombre = \"\"\n",
        "carnet = \"\"\n",
        "\n",
        "print(\"Nombre: \", nombre, \" Carnet: \", carnet)"
      ]
    },
    {
      "cell_type": "markdown",
      "metadata": {
        "id": "fKktUGQtH1bA"
      },
      "source": [
        "Si recordamos las listas nos permiten tener una colección ordenada de elementos y poder acceder a ellos por medio de su índice. Por ejemplo, la siguiente es una lista de temperaturas máximas de la ciudad de Guatemala para esta semana."
      ]
    },
    {
      "cell_type": "code",
      "execution_count": 2,
      "metadata": {
        "id": "Dl5h5dqNH1bB"
      },
      "outputs": [],
      "source": [
        "temperaturas = [27, 26, 24, 23, 24, 26, 24]"
      ]
    },
    {
      "cell_type": "markdown",
      "metadata": {
        "id": "zWj4OaAoH1bB"
      },
      "source": [
        "Podemos poner las temperaturas en orden y decidir que el índice 0 corresponde al día lunes, el índice 1 al día martes y así sucesivamente.\n",
        "\n",
        "Si quisieramos por ejemplo la temperatura máxima del día miércoles la podríamos obtener de la siguiente manera"
      ]
    },
    {
      "cell_type": "code",
      "execution_count": 3,
      "metadata": {
        "id": "GEAZHyXsH1bB",
        "outputId": "7fe8c9c8-3e54-47c4-efaf-33223355a4ab",
        "colab": {
          "base_uri": "https://localhost:8080/"
        }
      },
      "outputs": [
        {
          "output_type": "stream",
          "name": "stdout",
          "text": [
            "Temp para Miercoles:  24 °C\n"
          ]
        }
      ],
      "source": [
        "temperaturas = [27, 26, 24, 23, 24, 26, 24]\n",
        "#0 es lunes, 1 es martes, 2 es miércoles\n",
        "print(\"Temp para Miercoles: \", temperaturas[2], \"°C\")"
      ]
    },
    {
      "cell_type": "markdown",
      "metadata": {
        "id": "zZbaw1AZH1bB"
      },
      "source": [
        "Las listas son bastante útiles cuando tenemos que hacer cálculos, encontrar el máximo, mínimo o mostrar la información en orden. Pero otras veces nos conviene más **referirnos a la información por un nombre o una clave y no por un índice**. En este caso podemos usar diccionarios."
      ]
    },
    {
      "cell_type": "code",
      "execution_count": 4,
      "metadata": {
        "id": "bSd_qHfpH1bB"
      },
      "outputs": [],
      "source": [
        "#Un diccionario vacío se crea con una llave que abre y otra que cierra\n",
        "poblacion_paises = {}\n",
        "#Se agrega un elemento al diccionario de esta manera\n",
        "poblacion_paises[\"Guatemala\"] = 16.5"
      ]
    },
    {
      "cell_type": "markdown",
      "metadata": {
        "id": "nwT4Zu6zH1bB"
      },
      "source": [
        "En la siguiente celda agregue la información de población para los siguientes países (en millones de habitantes). Utilice como guía el ejemplo que se proporciona.\n",
        "\n",
        "- Guatemala: 16.5\n",
        "- Mexico: 127.5\n",
        "- EEUU: 322.2\n",
        "- Brasil: 207.6\n",
        "\n",
        "**Presione Ctrl + Enter para ejecutar el código**"
      ]
    },
    {
      "cell_type": "code",
      "execution_count": 5,
      "metadata": {
        "id": "eJeHV8qeH1bC",
        "outputId": "fc4c12f3-fec0-41be-d64b-a24d6e92f4ed",
        "colab": {
          "base_uri": "https://localhost:8080/"
        }
      },
      "outputs": [
        {
          "output_type": "stream",
          "name": "stdout",
          "text": [
            "{'Guatemala': 16.5, 'Mexico': 127.5, 'EEUU': 322.2, 'Brasil': 207.6}\n"
          ]
        }
      ],
      "source": [
        "#diccionario vacio\n",
        "poblacion_paises = {}\n",
        "\n",
        "\n",
        "poblacion_paises[\"Guatemala\"] = 16.5\n",
        "#agregue la informacion de poblaciones para los otros paises\n",
        "poblacion_paises[\"Mexico\"] = 127.5\n",
        "poblacion_paises[\"EEUU\"] = 322.2\n",
        "poblacion_paises[\"Brasil\"] = 207.6\n",
        "\n",
        "#se imprime el diccionario\n",
        "print(poblacion_paises)"
      ]
    },
    {
      "cell_type": "markdown",
      "metadata": {
        "id": "Qz5BczLeH1bC"
      },
      "source": [
        "Si ejecutó el código de la celda anterior sin problemas podrá notar la sintaxis del diccionario. Un diccionario está entre llaves {} y tiene sus elementos separados por comas. **Cada elemento tiene dos partes**, que se llaman **clave** y **valor**, estos dos elementos están separados por **dos puntos**.\n",
        "\n",
        "Si deseamos crear un diccionario que ya contenga algunos elementos predefinidos, lo podemos hacer de la siguiente manera:"
      ]
    },
    {
      "cell_type": "code",
      "execution_count": 6,
      "metadata": {
        "id": "n1ElOChHH1bC",
        "outputId": "b0fa2900-351a-43d0-ac4c-29d31821787f",
        "colab": {
          "base_uri": "https://localhost:8080/"
        }
      },
      "outputs": [
        {
          "output_type": "stream",
          "name": "stdout",
          "text": [
            "Pablo Gomez\n"
          ]
        }
      ],
      "source": [
        "#Los elementos del diccionario están compuestos por clave o llave y valor\n",
        "estudiantes = {\n",
        "    '17115': 'Marta Garcia',\n",
        "    '17345': 'Pablo Gomez',\n",
        "    '17654': 'Lorena Quezada'\n",
        "}\n",
        "\n",
        "#Accedemos a los elementos indicando la clave\n",
        "print(estudiantes['17345'])\n",
        "#Note que al hacer la referencia segun la clave se imprime solo el valor"
      ]
    },
    {
      "cell_type": "markdown",
      "metadata": {
        "id": "gvh_4_ryH1bC"
      },
      "source": [
        "En los diccionarios no existe la función append(), solo se pueden agregar nuevos elementos haciendo la asignación a la referencia del nuevo elemento, referenciado por la clave.  Modifique el siguiente código para agregar dos nuevos estudiantes:"
      ]
    },
    {
      "cell_type": "code",
      "execution_count": 17,
      "metadata": {
        "id": "-5o9JnL1H1bC",
        "outputId": "94e603ee-9add-46a0-cd3e-ca769561a9b1",
        "colab": {
          "base_uri": "https://localhost:8080/"
        }
      },
      "outputs": [
        {
          "output_type": "stream",
          "name": "stdout",
          "text": [
            "Liliana Véliz\n"
          ]
        }
      ],
      "source": [
        "estudiantes['17487'] = 'Carlos Barrera'\n",
        "estudiantes['17546'] = 'Liliana Véliz'\n",
        "print(estudiantes['17546'])"
      ]
    },
    {
      "cell_type": "markdown",
      "metadata": {
        "id": "8Yo_JApjH1bC"
      },
      "source": [
        "Se puede modificar el valor de un elemento del diccionario al actualizar la referencia a una llave específica"
      ]
    },
    {
      "cell_type": "code",
      "execution_count": 18,
      "metadata": {
        "id": "b8KSYs4gH1bC",
        "outputId": "292c264c-fa7f-4f38-c949-887c4035897c",
        "colab": {
          "base_uri": "https://localhost:8080/"
        }
      },
      "outputs": [
        {
          "output_type": "stream",
          "name": "stdout",
          "text": [
            "{'17115': 'Marta Garcia', '17345': 'Pablo Gomez', '17654': 'Lorena Quezada', '17487': 'Carlos Barrera', '17546': 'Liliana Vasquez'}\n"
          ]
        }
      ],
      "source": [
        "estudiantes['17546'] = 'Liliana Vasquez'\n",
        "print(estudiantes)"
      ]
    },
    {
      "cell_type": "markdown",
      "metadata": {
        "id": "CdUe-FGQH1bC"
      },
      "source": [
        "Podemos eliminar un elemento del diccionario utilizando *del*"
      ]
    },
    {
      "cell_type": "code",
      "execution_count": 19,
      "metadata": {
        "id": "vAXi37wkH1bC",
        "outputId": "059e5ca9-1342-45f3-f950-532979c7cdb3",
        "colab": {
          "base_uri": "https://localhost:8080/"
        }
      },
      "outputs": [
        {
          "output_type": "stream",
          "name": "stdout",
          "text": [
            "{'17115': 'Marta Garcia', '17345': 'Pablo Gomez', '17654': 'Lorena Quezada', '17487': 'Carlos Barrera'}\n"
          ]
        }
      ],
      "source": [
        "del estudiantes['17546']\n",
        "print(estudiantes)"
      ]
    },
    {
      "cell_type": "markdown",
      "metadata": {
        "id": "KOs81cxvH1bC"
      },
      "source": [
        "Al igual que con las listas podemos utilizar **in** para saber si existe un elemento en el diccionario. En este caso se realiza la revisión tomando en cuenta únicamente las claves"
      ]
    },
    {
      "cell_type": "code",
      "execution_count": 21,
      "metadata": {
        "id": "NfoLY5W8H1bC",
        "outputId": "3752748f-743b-4961-9d1b-9a7bef92595f",
        "colab": {
          "base_uri": "https://localhost:8080/"
        }
      },
      "outputs": [
        {
          "output_type": "stream",
          "name": "stdout",
          "text": [
            "El estudiante 17113 no está en el diccionario\n"
          ]
        }
      ],
      "source": [
        "carnet = '17113'\n",
        "if carnet in estudiantes:\n",
        "    print('El estudiante', carnet,  'si está en el diccionario')\n",
        "else:\n",
        "    print('El estudiante', carnet,  'no está en el diccionario')"
      ]
    },
    {
      "cell_type": "markdown",
      "metadata": {
        "id": "HJC9-Eb4H1bC"
      },
      "source": [
        "Modifique el código anterior para probar con un estudiante que no se encuentre en el diccionario. Presione Ctrl + Enter para ejecutar el código de la celda"
      ]
    },
    {
      "cell_type": "markdown",
      "metadata": {
        "id": "be_iE9F9H1bC"
      },
      "source": [
        "Si deseamos realizar una operación sobre todos los elementos del diccionario podemos hacerlo utilizando un for. Si utilizamos la sintaxis for elemento in diccionario, el for iterara sobre las llaves del diccionario, como puede ver en el siguiente ejemplo:"
      ]
    },
    {
      "cell_type": "code",
      "execution_count": 22,
      "metadata": {
        "id": "NC2qrk7JH1bC",
        "outputId": "46caa48e-935d-40ca-9979-e1120f3b029c",
        "colab": {
          "base_uri": "https://localhost:8080/"
        }
      },
      "outputs": [
        {
          "output_type": "stream",
          "name": "stdout",
          "text": [
            "17115\n",
            "17345\n",
            "17654\n",
            "17487\n"
          ]
        }
      ],
      "source": [
        "#Ciclo que itera sobre las llaves del diccionario\n",
        "for e in estudiantes:\n",
        "    print(e)"
      ]
    },
    {
      "cell_type": "markdown",
      "metadata": {
        "id": "ggJGI4l9H1bC"
      },
      "source": [
        "Modifique el siguiente código para que el ciclo muestre la clave y el valor para cada elemento"
      ]
    },
    {
      "cell_type": "code",
      "execution_count": 23,
      "metadata": {
        "id": "ll11NTVeH1bC",
        "outputId": "30800711-b921-4ab1-d350-b43066c00b86",
        "colab": {
          "base_uri": "https://localhost:8080/"
        }
      },
      "outputs": [
        {
          "output_type": "stream",
          "name": "stdout",
          "text": [
            "17115   Marta Garcia\n",
            "17345   Pablo Gomez\n",
            "17654   Lorena Quezada\n",
            "17487   Carlos Barrera\n"
          ]
        }
      ],
      "source": [
        "for e in estudiantes:\n",
        "    print(e, \" \", estudiantes[e])"
      ]
    },
    {
      "cell_type": "markdown",
      "metadata": {
        "id": "IB4IQn6EH1bC"
      },
      "source": [
        "Podemos obtener las llaves de un diccionario con la función keys(), los valores con la función values() y los items completos con la función items()"
      ]
    },
    {
      "cell_type": "code",
      "execution_count": 24,
      "metadata": {
        "id": "_IAXOqIWH1bC",
        "outputId": "e3a8c504-c26b-4727-892d-120ace29481e",
        "colab": {
          "base_uri": "https://localhost:8080/"
        }
      },
      "outputs": [
        {
          "output_type": "stream",
          "name": "stdout",
          "text": [
            "Imprimiento llaves\n",
            "dict_keys(['17115', '17345', '17654', '17487'])\n"
          ]
        }
      ],
      "source": [
        "print(\"Imprimiento llaves\")\n",
        "print (estudiantes.keys())"
      ]
    },
    {
      "cell_type": "code",
      "execution_count": 25,
      "metadata": {
        "id": "zGgN-PDhH1bD",
        "outputId": "828d25da-5981-4a3b-cbc0-832a4bd563a0",
        "colab": {
          "base_uri": "https://localhost:8080/"
        }
      },
      "outputs": [
        {
          "output_type": "stream",
          "name": "stdout",
          "text": [
            "Imprimiendo valores\n",
            "dict_values(['Marta Garcia', 'Pablo Gomez', 'Lorena Quezada', 'Carlos Barrera'])\n"
          ]
        }
      ],
      "source": [
        "print(\"Imprimiendo valores\")\n",
        "print(estudiantes.values())"
      ]
    },
    {
      "cell_type": "code",
      "execution_count": 26,
      "metadata": {
        "id": "GUyWCbIKH1bD",
        "outputId": "a354593b-1c87-4a28-d5ab-0a782161a0d4",
        "colab": {
          "base_uri": "https://localhost:8080/"
        }
      },
      "outputs": [
        {
          "output_type": "stream",
          "name": "stdout",
          "text": [
            "Imprimiendo items\n",
            "dict_items([('17115', 'Marta Garcia'), ('17345', 'Pablo Gomez'), ('17654', 'Lorena Quezada'), ('17487', 'Carlos Barrera')])\n"
          ]
        }
      ],
      "source": [
        "print(\"Imprimiendo items\")\n",
        "print(estudiantes.items())"
      ]
    },
    {
      "cell_type": "markdown",
      "metadata": {
        "id": "gHh1rGb9H1bD"
      },
      "source": [
        "Podemos hacer un ciclo que itere sobre los valores del diccionario utilizando la función items, para obtener llave y valor al mismo tiempo"
      ]
    },
    {
      "cell_type": "code",
      "execution_count": 27,
      "metadata": {
        "id": "73iklKwLH1bD",
        "outputId": "d718b2b5-a940-4669-88ac-afc20496f0da",
        "colab": {
          "base_uri": "https://localhost:8080/"
        }
      },
      "outputs": [
        {
          "output_type": "stream",
          "name": "stdout",
          "text": [
            "17115   Marta Garcia\n",
            "17345   Pablo Gomez\n",
            "17654   Lorena Quezada\n",
            "17487   Carlos Barrera\n"
          ]
        }
      ],
      "source": [
        "for carnet, nombre in estudiantes.items():\n",
        "    print(carnet, \" \", nombre)"
      ]
    },
    {
      "cell_type": "markdown",
      "metadata": {
        "id": "k7eHYQ3HH1bD"
      },
      "source": [
        "Modifique el siguiente código para que muestre los nombres de países y poblaciones utilizando un for y la función items"
      ]
    },
    {
      "cell_type": "code",
      "execution_count": 29,
      "metadata": {
        "id": "yT1VIajVH1bD",
        "outputId": "886bc3b5-5763-4c9b-8f4b-7c8e7c1f4dca",
        "colab": {
          "base_uri": "https://localhost:8080/"
        }
      },
      "outputs": [
        {
          "output_type": "stream",
          "name": "stdout",
          "text": [
            "Guatemala tiene  16.5  millones de habitantes\n",
            "Mexico tiene  127.5  millones de habitantes\n",
            "EEUU tiene  322.2  millones de habitantes\n",
            "Brasil tiene  207.6  millones de habitantes\n"
          ]
        }
      ],
      "source": [
        "for pais, poblacion in poblacion_paises.items():\n",
        "    print (pais, 'tiene ', poblacion, ' millones de habitantes')"
      ]
    },
    {
      "cell_type": "markdown",
      "metadata": {
        "id": "xWZMBCcxH1bD"
      },
      "source": [
        "## ¡Buen trabajo!"
      ]
    }
  ],
  "metadata": {
    "kernelspec": {
      "display_name": "Python 3",
      "language": "python",
      "name": "python3"
    },
    "language_info": {
      "codemirror_mode": {
        "name": "ipython",
        "version": 3
      },
      "file_extension": ".py",
      "mimetype": "text/x-python",
      "name": "python",
      "nbconvert_exporter": "python",
      "pygments_lexer": "ipython3",
      "version": "3.6.4"
    },
    "colab": {
      "provenance": [],
      "include_colab_link": true
    }
  },
  "nbformat": 4,
  "nbformat_minor": 0
}